{
  "nbformat": 4,
  "nbformat_minor": 0,
  "metadata": {
    "colab": {
      "name": "pytorch",
      "provenance": []
    },
    "kernelspec": {
      "name": "python3",
      "display_name": "Python 3"
    },
    "accelerator": "GPU"
  },
  "cells": [
    {
      "cell_type": "code",
      "metadata": {
        "id": "nhS7WSlmMNkb",
        "colab_type": "code",
        "outputId": "97f14717-eb28-4317-e870-9b13d3df2f5b",
        "colab": {
          "base_uri": "https://localhost:8080/",
          "height": 35
        }
      },
      "source": [
        "cd /content/drive/My Drive/Colab Notebooks/tobigs"
      ],
      "execution_count": 1,
      "outputs": [
        {
          "output_type": "stream",
          "text": [
            "/content/drive/My Drive/Colab Notebooks/tobigs\n"
          ],
          "name": "stdout"
        }
      ]
    },
    {
      "cell_type": "code",
      "metadata": {
        "id": "NNHP5KomMVS9",
        "colab_type": "code",
        "outputId": "db9856d4-f741-4679-e78e-b2bab7d48355",
        "colab": {
          "base_uri": "https://localhost:8080/",
          "height": 72
        }
      },
      "source": [
        "ls"
      ],
      "execution_count": 2,
      "outputs": [
        {
          "output_type": "stream",
          "text": [
            " kaggle.json             test_df.csv                    torch_submission.csv\n",
            " pytorch                 test_df.csv.zip                train_df.csv\n",
            " sample_submission.csv  'Tobigs_Kannada digits.ipynb'   train_df.csv.zip\n"
          ],
          "name": "stdout"
        }
      ]
    },
    {
      "cell_type": "code",
      "metadata": {
        "id": "bhlNyh5VMXCd",
        "colab_type": "code",
        "colab": {}
      },
      "source": [
        "import pandas as pd\n",
        "import numpy as np"
      ],
      "execution_count": 0,
      "outputs": []
    },
    {
      "cell_type": "code",
      "metadata": {
        "id": "jUCOj0aJMm0V",
        "colab_type": "code",
        "colab": {}
      },
      "source": [
        "sample_submission = pd.read_csv(\"sample_submission.csv\")\n",
        "train = pd.read_csv(\"train_df.csv\")\n",
        "test = pd.read_csv(\"test_df.csv\")"
      ],
      "execution_count": 0,
      "outputs": []
    },
    {
      "cell_type": "code",
      "metadata": {
        "id": "Ah3MnG22Mocq",
        "colab_type": "code",
        "outputId": "fc922e0f-c3ea-4436-831c-04536cb7d14d",
        "colab": {
          "base_uri": "https://localhost:8080/",
          "height": 35
        }
      },
      "source": [
        "X = train.iloc[:, 1:].values / 255\n",
        "y = train.iloc[:, 0].values\n",
        "X_test = test.iloc[:, 1:].values / 255\n",
        "print(X.shape, y.shape, X_test.shape)"
      ],
      "execution_count": 5,
      "outputs": [
        {
          "output_type": "stream",
          "text": [
            "(42000, 784) (42000,) (18000, 784)\n"
          ],
          "name": "stdout"
        }
      ]
    },
    {
      "cell_type": "code",
      "metadata": {
        "id": "zS4a6aqOtATz",
        "colab_type": "code",
        "colab": {}
      },
      "source": [
        "X = X.reshape(-1,1,  28, 28)\n",
        "X_test = X_test.reshape(-1,1, 28, 28)"
      ],
      "execution_count": 0,
      "outputs": []
    },
    {
      "cell_type": "markdown",
      "metadata": {
        "id": "XsVhJ60o1QzK",
        "colab_type": "text"
      },
      "source": [
        "### pytorch 로 모델을 만들면서 느낀점(주관적) + 정리\n",
        "- 일단 keras 보다 조금 불편했다.\n",
        "- Convolution layer에 집어넣기 위해 keras 에서 x를 reshape를 해주어야한다. (첨에 이걸 안해줬더니 오류남ㅠ_ㅠ) 그리고 이거 reshape 순서 때문에 오류가 날수 있으므로 주의"
      ]
    },
    {
      "cell_type": "code",
      "metadata": {
        "id": "t-fKApNtMp1L",
        "colab_type": "code",
        "colab": {}
      },
      "source": [
        "from torch.utils.data import Dataset, DataLoader # torch.utils.data.Dataset를 상속해야 한다\n",
        "\n",
        "class TrainDataset(Dataset):\n",
        "    def __init__(self, X, y, transform=None):\n",
        "        self.X = X\n",
        "        self.y = y\n",
        "        self.transform = transform  # 지정하면 이미지 데이터에 어떤 변형을 가할지를 transform function의 묶음(Compose)로 전달한다.\n",
        "    \n",
        "    def __len__(self):  # dataset의 전체 개수를 알려준다.\n",
        "        return len(self.X)\n",
        "    \n",
        "    def __getitem__(self, idx):  # parameter로 idx를 넘겨주면 idx번째의 데이터를 반환한다.\n",
        "        X = self.X[idx]\n",
        "        y = self.y[idx]\n",
        "        return X, y\n",
        "\n",
        "class TestDataset(Dataset):\n",
        "    def __init__(self, X, y, transform=None):\n",
        "        self.X = X\n",
        "        self.y = y\n",
        "        self.transform = transform\n",
        "    \n",
        "    def __len__(self):\n",
        "        return len(self.X)\n",
        "    \n",
        "    def __getitem__(self, idx):\n",
        "        X = self.X[idx]   # test 는 y값이 없는것을 확인할수 있음\n",
        "        return X"
      ],
      "execution_count": 0,
      "outputs": []
    },
    {
      "cell_type": "code",
      "metadata": {
        "id": "uKKOws2PNkjq",
        "colab_type": "code",
        "colab": {}
      },
      "source": [
        "traindataloader = DataLoader(TrainDataset(X, y), batch_size=128, shuffle=True, num_workers=4)   \n",
        "testdataloader = DataLoader(TestDataset(X_test, y=None), batch_size=4, shuffle=False, num_workers=4)"
      ],
      "execution_count": 0,
      "outputs": []
    },
    {
      "cell_type": "markdown",
      "metadata": {
        "id": "0HiqkdZk4FfG",
        "colab_type": "text"
      },
      "source": [
        "- num_worker :  데이터 프로세싱에 필요한 코어 개수를 할당해준느것 . 적당한 개수를 정해주면 된다. "
      ]
    },
    {
      "cell_type": "markdown",
      "metadata": {
        "id": "AGrgwmBsg5Yg",
        "colab_type": "text"
      },
      "source": [
        "1. activation function : relu\n",
        "2. batchnormalization\n",
        "3. max pooling\n",
        "4. optimization : Adam\n",
        "5. regularization : drop out\n"
      ]
    },
    {
      "cell_type": "code",
      "metadata": {
        "id": "XLURbww8Mzwb",
        "colab_type": "code",
        "colab": {}
      },
      "source": [
        "import torch.nn as nn\n",
        "import torch.nn.functional as F\n",
        "import torch\n",
        "\n",
        "class Net(nn.Module):  # nn.Module은 모든 PyTorch 모델의 base class이다.\n",
        "    def __init__(self):\n",
        "        super(Net, self).__init__()\n",
        "\n",
        "        self.conv1 = nn.Conv2d(in_channels=1, out_channels=32, kernel_size=5, stride=1, padding=2) # conv1\n",
        "        self.conv1_bn = nn.BatchNorm2d(num_features=32)\n",
        "        self.conv2 = nn.Conv2d(in_channels=32, out_channels=64, kernel_size=5, stride=1, padding=2) # conv2\n",
        "        self.conv2_bn = nn.BatchNorm2d(num_features=64)\n",
        "        self.conv3 = nn.Conv2d(in_channels=64, out_channels= 128, kernel_size=3, stride=1, padding=1) # conv3\n",
        "        self.conv3_bn = nn.BatchNorm2d(num_features=128)\n",
        "        \n",
        "        self.fc1 = nn.Linear(in_features=128*6*6, out_features=1024) # linear 1\n",
        "        self.fc1_bn = nn.BatchNorm1d(num_features=1024)\n",
        "        self.fc2 = nn.Linear(in_features=1024, out_features=512) # linear 2\n",
        "        self.fc2_bn = nn.BatchNorm1d(num_features=512)\n",
        "        self.fc3 = nn.Linear(in_features=512, out_features=256) # linear 3\n",
        "        self.fc3_bn = nn.BatchNorm1d(num_features=256)\n",
        "        self.fc4 = nn.Linear(in_features=256, out_features=64) # linear 4\n",
        "        self.fc4_bn = nn.BatchNorm1d(num_features=64)\n",
        "        self.out = nn.Linear(in_features=64, out_features=10) # output\n",
        "    \n",
        "    def forward(self, t):\n",
        "\n",
        "        t = F.relu(self.conv1_bn(self.conv1(t)))\n",
        "        t = F.max_pool2d(t, kernel_size=2, stride=2) # (1, 14, 14)\n",
        "        \n",
        "        t = F.relu(self.conv2_bn(self.conv2(t)))\n",
        "        t = F.max_pool2d(t, kernel_size=2, stride=2) # (1, 7, 7)\n",
        "        \n",
        "        t = F.relu(self.conv3_bn(self.conv3(t)))\n",
        "        t = F.max_pool2d(t, kernel_size=2, stride=1) # (1, 6, 6)\n",
        "        \n",
        "        t = F.relu(self.fc1_bn(self.fc1(t.reshape(-1, 128*6*6))))\n",
        "        t = F.relu(self.fc2_bn(self.fc2(t)))\n",
        "        t = F.relu(self.fc3_bn(self.fc3(t)))\n",
        "        t = F.relu(self.fc4_bn(self.fc4(t)))\n",
        "        t = self.out(t)\n",
        "        \n",
        "        return t\n",
        "\n",
        "net = Net()"
      ],
      "execution_count": 0,
      "outputs": []
    },
    {
      "cell_type": "code",
      "metadata": {
        "id": "M5mUEyrQNtlD",
        "colab_type": "code",
        "outputId": "1fa9adbf-d727-4afb-bafc-53f1b2591d82",
        "colab": {
          "base_uri": "https://localhost:8080/",
          "height": 326
        }
      },
      "source": [
        "net"
      ],
      "execution_count": 10,
      "outputs": [
        {
          "output_type": "execute_result",
          "data": {
            "text/plain": [
              "Net(\n",
              "  (conv1): Conv2d(1, 32, kernel_size=(5, 5), stride=(1, 1), padding=(2, 2))\n",
              "  (conv1_bn): BatchNorm2d(32, eps=1e-05, momentum=0.1, affine=True, track_running_stats=True)\n",
              "  (conv2): Conv2d(32, 64, kernel_size=(5, 5), stride=(1, 1), padding=(2, 2))\n",
              "  (conv2_bn): BatchNorm2d(64, eps=1e-05, momentum=0.1, affine=True, track_running_stats=True)\n",
              "  (conv3): Conv2d(64, 128, kernel_size=(3, 3), stride=(1, 1), padding=(1, 1))\n",
              "  (conv3_bn): BatchNorm2d(128, eps=1e-05, momentum=0.1, affine=True, track_running_stats=True)\n",
              "  (fc1): Linear(in_features=4608, out_features=1024, bias=True)\n",
              "  (fc1_bn): BatchNorm1d(1024, eps=1e-05, momentum=0.1, affine=True, track_running_stats=True)\n",
              "  (fc2): Linear(in_features=1024, out_features=512, bias=True)\n",
              "  (fc2_bn): BatchNorm1d(512, eps=1e-05, momentum=0.1, affine=True, track_running_stats=True)\n",
              "  (fc3): Linear(in_features=512, out_features=256, bias=True)\n",
              "  (fc3_bn): BatchNorm1d(256, eps=1e-05, momentum=0.1, affine=True, track_running_stats=True)\n",
              "  (fc4): Linear(in_features=256, out_features=64, bias=True)\n",
              "  (fc4_bn): BatchNorm1d(64, eps=1e-05, momentum=0.1, affine=True, track_running_stats=True)\n",
              "  (out): Linear(in_features=64, out_features=10, bias=True)\n",
              ")"
            ]
          },
          "metadata": {
            "tags": []
          },
          "execution_count": 10
        }
      ]
    },
    {
      "cell_type": "markdown",
      "metadata": {
        "id": "NQH122W-M4MG",
        "colab_type": "text"
      },
      "source": [
        "# Train\n"
      ]
    },
    {
      "cell_type": "code",
      "metadata": {
        "id": "HOROS6OoNC6b",
        "colab_type": "code",
        "colab": {}
      },
      "source": [
        "import torch.optim as optim\n",
        "\n",
        "criterion = nn.CrossEntropyLoss()   # loss function \n",
        "optimizer = optim.Adam(net.parameters(), lr=2e-3, weight_decay=1e-3) # 최적화 함수 지정"
      ],
      "execution_count": 0,
      "outputs": []
    },
    {
      "cell_type": "markdown",
      "metadata": {
        "id": "HzxUZQz14yl_",
        "colab_type": "text"
      },
      "source": [
        "cuda(device=None): 모든 model parameter를 GPU 버퍼에 옮기는 것으로 GPU를 쓰고 싶다면 이를 활성화해주어야 한다. .cuda()는 optimizer를 설정하기 전에 실행되어야 한다. 잊어버리지 않으려면 모델을 생성하자마자 쓰는 것이 좋다."
      ]
    },
    {
      "cell_type": "code",
      "metadata": {
        "id": "pY6Gue7gN3pZ",
        "colab_type": "code",
        "outputId": "d43bc882-c718-4c0d-bd7c-50f122dc4c48",
        "colab": {
          "base_uri": "https://localhost:8080/",
          "height": 35
        }
      },
      "source": [
        "device = torch.device(\"cuda:0\" if torch.cuda.is_available() else \"cpu\")\n",
        "device"
      ],
      "execution_count": 12,
      "outputs": [
        {
          "output_type": "execute_result",
          "data": {
            "text/plain": [
              "device(type='cuda', index=0)"
            ]
          },
          "metadata": {
            "tags": []
          },
          "execution_count": 12
        }
      ]
    },
    {
      "cell_type": "code",
      "metadata": {
        "id": "W2kN0xCRN5D4",
        "colab_type": "code",
        "outputId": "b46a39b6-d026-4a1a-8190-b37b3dd99d26",
        "colab": {
          "base_uri": "https://localhost:8080/",
          "height": 326
        }
      },
      "source": [
        "# put the model on device (hopefully a GPU!)\n",
        "net.to(device)"
      ],
      "execution_count": 13,
      "outputs": [
        {
          "output_type": "execute_result",
          "data": {
            "text/plain": [
              "Net(\n",
              "  (conv1): Conv2d(1, 32, kernel_size=(5, 5), stride=(1, 1), padding=(2, 2))\n",
              "  (conv1_bn): BatchNorm2d(32, eps=1e-05, momentum=0.1, affine=True, track_running_stats=True)\n",
              "  (conv2): Conv2d(32, 64, kernel_size=(5, 5), stride=(1, 1), padding=(2, 2))\n",
              "  (conv2_bn): BatchNorm2d(64, eps=1e-05, momentum=0.1, affine=True, track_running_stats=True)\n",
              "  (conv3): Conv2d(64, 128, kernel_size=(3, 3), stride=(1, 1), padding=(1, 1))\n",
              "  (conv3_bn): BatchNorm2d(128, eps=1e-05, momentum=0.1, affine=True, track_running_stats=True)\n",
              "  (fc1): Linear(in_features=4608, out_features=1024, bias=True)\n",
              "  (fc1_bn): BatchNorm1d(1024, eps=1e-05, momentum=0.1, affine=True, track_running_stats=True)\n",
              "  (fc2): Linear(in_features=1024, out_features=512, bias=True)\n",
              "  (fc2_bn): BatchNorm1d(512, eps=1e-05, momentum=0.1, affine=True, track_running_stats=True)\n",
              "  (fc3): Linear(in_features=512, out_features=256, bias=True)\n",
              "  (fc3_bn): BatchNorm1d(256, eps=1e-05, momentum=0.1, affine=True, track_running_stats=True)\n",
              "  (fc4): Linear(in_features=256, out_features=64, bias=True)\n",
              "  (fc4_bn): BatchNorm1d(64, eps=1e-05, momentum=0.1, affine=True, track_running_stats=True)\n",
              "  (out): Linear(in_features=64, out_features=10, bias=True)\n",
              ")"
            ]
          },
          "metadata": {
            "tags": []
          },
          "execution_count": 13
        }
      ]
    },
    {
      "cell_type": "markdown",
      "metadata": {
        "id": "GMabJF9e6Ccs",
        "colab_type": "text"
      },
      "source": [
        "## train 의 기본 구조 \n",
        "1. output = model(data) : 모델에서 정의한 forward 단계실행. 모델에 data를 전달하여 예상하는 label 값 계산\n",
        "2. loss = criterion(output, label) : 모델에서 나온 output과 label을 이용해 loss 계산\n",
        "3. optimizer.zero_grad() : 갱신할 Variable들에 대한 모든 변화도를 0으로 만듬\n",
        "4. loss.backward() : 역전파 단계 실행. 모델의 Variable들에 대한 손실의 변화도를 계산합니다.\n",
        "5. optimizer.step() : 가중치 갱신."
      ]
    },
    {
      "cell_type": "code",
      "metadata": {
        "id": "v5XcZmzHN6T3",
        "colab_type": "code",
        "outputId": "2146bad6-931e-4883-feae-8ef2e977d1ef",
        "colab": {
          "base_uri": "https://localhost:8080/",
          "height": 492
        }
      },
      "source": [
        "EPOCHS = 20\n",
        "for epoch in range(EPOCHS):\n",
        "    epoch_loss = 0\n",
        "    epoch_correct = 0\n",
        "    net.train()\n",
        "\n",
        "    for i, data in enumerate(traindataloader):\n",
        "        inputs, labels = data\n",
        "        inputs = torch.tensor(inputs, device=device).float()\n",
        "        labels = torch.tensor(labels, device=device)\n",
        "\n",
        "        # 모든 model parameter의 gradient를 0으로 설정한다.\n",
        "        optimizer.zero_grad()\n",
        "        # print(type(inputs), type(labels), type(outputs))\n",
        "        # forward + backward + optimize\n",
        "        outputs = net(inputs)\n",
        "        # print(type(inputs), type(labels), type(outputs))\n",
        "        loss = criterion(outputs, labels)\n",
        "        loss.backward()\n",
        "        optimizer.step()\n",
        "        # print statistics\n",
        "        epoch_loss += loss.item()\n",
        "\n",
        "    print(\"Epoch : {} loss: {}\".format(epoch, epoch_loss))\n",
        "print('Finished Training')"
      ],
      "execution_count": 14,
      "outputs": [
        {
          "output_type": "stream",
          "text": [
            "/usr/local/lib/python3.6/dist-packages/ipykernel_launcher.py:9: UserWarning: To copy construct from a tensor, it is recommended to use sourceTensor.clone().detach() or sourceTensor.clone().detach().requires_grad_(True), rather than torch.tensor(sourceTensor).\n",
            "  if __name__ == '__main__':\n",
            "/usr/local/lib/python3.6/dist-packages/ipykernel_launcher.py:10: UserWarning: To copy construct from a tensor, it is recommended to use sourceTensor.clone().detach() or sourceTensor.clone().detach().requires_grad_(True), rather than torch.tensor(sourceTensor).\n",
            "  # Remove the CWD from sys.path while we load stuff.\n"
          ],
          "name": "stderr"
        },
        {
          "output_type": "stream",
          "text": [
            "Epoch : 0 loss: 42.13289733044803\n",
            "Epoch : 1 loss: 20.641383207403123\n",
            "Epoch : 2 loss: 21.71867738198489\n",
            "Epoch : 3 loss: 16.519353855401278\n",
            "Epoch : 4 loss: 14.666488809511065\n",
            "Epoch : 5 loss: 13.172440581955016\n",
            "Epoch : 6 loss: 12.581996018067002\n",
            "Epoch : 7 loss: 10.584817011840641\n",
            "Epoch : 8 loss: 9.171987907961011\n",
            "Epoch : 9 loss: 10.823007059283555\n",
            "Epoch : 10 loss: 7.91460071131587\n",
            "Epoch : 11 loss: 8.524560377933085\n",
            "Epoch : 12 loss: 8.858328242786229\n",
            "Epoch : 13 loss: 8.225351545959711\n",
            "Epoch : 14 loss: 8.788008000701666\n",
            "Epoch : 15 loss: 9.25416670087725\n",
            "Epoch : 16 loss: 8.903053456917405\n",
            "Epoch : 17 loss: 8.816635721363127\n",
            "Epoch : 18 loss: 6.943080166354775\n",
            "Epoch : 19 loss: 7.9526237975806\n",
            "Finished Training\n"
          ],
          "name": "stdout"
        }
      ]
    },
    {
      "cell_type": "markdown",
      "metadata": {
        "id": "yQ60OAjg_iZ8",
        "colab_type": "text"
      },
      "source": [
        "## test 기본구조\n",
        "1. model.eval() 를 통해 Test 과정이라고 내부적으로 알려줌\n",
        "\n"
      ]
    },
    {
      "cell_type": "code",
      "metadata": {
        "id": "HqhKlt9-N8tH",
        "colab_type": "code",
        "outputId": "1aa108dc-22e4-4afb-e175-88151c8c4151",
        "colab": {
          "base_uri": "https://localhost:8080/",
          "height": 74
        }
      },
      "source": [
        "correct = 0\n",
        "total = 0\n",
        "net.eval()  # 모델을 eval(test) mode로 변경한다. Dropout이나 BatchNormalization을 쓰는 모델은 학습시킬 때와 평가할 때 구조/역할이 다르기 때문에 반드시 이를 명시하도록 한다.\n",
        "preds = []\n",
        "with torch.no_grad():\n",
        "    for data in testdataloader:   # test 데이터를 불러오고 \n",
        "        inputs = data\n",
        "        inputs = torch.tensor(inputs, device=device).float()\n",
        "        outputs = net(inputs)\n",
        "        _, predicted = torch.max(outputs.data, 1)   # torch.max() : 텐서 배열의 최대 값이 들어있는 index를 리턴하는 함수.\n",
        "        for pred in predicted:\n",
        "          preds.append(pred.cpu().numpy()) \n",
        "          "
      ],
      "execution_count": 15,
      "outputs": [
        {
          "output_type": "stream",
          "text": [
            "/usr/local/lib/python3.6/dist-packages/ipykernel_launcher.py:8: UserWarning: To copy construct from a tensor, it is recommended to use sourceTensor.clone().detach() or sourceTensor.clone().detach().requires_grad_(True), rather than torch.tensor(sourceTensor).\n",
            "  \n"
          ],
          "name": "stderr"
        }
      ]
    },
    {
      "cell_type": "code",
      "metadata": {
        "id": "1fC8hZKOOAsS",
        "colab_type": "code",
        "outputId": "a554ae3f-51dc-4fdb-cc61-2f7cd41e655a",
        "colab": {
          "base_uri": "https://localhost:8080/",
          "height": 199
        }
      },
      "source": [
        "preds[:10]"
      ],
      "execution_count": 16,
      "outputs": [
        {
          "output_type": "execute_result",
          "data": {
            "text/plain": [
              "[array(8),\n",
              " array(0),\n",
              " array(5),\n",
              " array(3),\n",
              " array(8),\n",
              " array(1),\n",
              " array(9),\n",
              " array(6),\n",
              " array(6),\n",
              " array(0)]"
            ]
          },
          "metadata": {
            "tags": []
          },
          "execution_count": 16
        }
      ]
    },
    {
      "cell_type": "code",
      "metadata": {
        "id": "JmuTE3i4M3RG",
        "colab_type": "code",
        "outputId": "8400ac5b-dc02-42bf-ae75-1a99976ba26e",
        "colab": {
          "base_uri": "https://localhost:8080/",
          "height": 35
        }
      },
      "source": [
        "preds = np.array(preds)\n",
        "print(preds.shape)"
      ],
      "execution_count": 17,
      "outputs": [
        {
          "output_type": "stream",
          "text": [
            "(18000,)\n"
          ],
          "name": "stdout"
        }
      ]
    },
    {
      "cell_type": "code",
      "metadata": {
        "id": "Kl5wVXfdOF7G",
        "colab_type": "code",
        "outputId": "bce968cc-682d-411a-9d89-fb6518828564",
        "colab": {
          "base_uri": "https://localhost:8080/",
          "height": 198
        }
      },
      "source": [
        "sample_submission[\"Category\"] = pd.Series(preds)\n",
        "sample_submission.head()"
      ],
      "execution_count": 18,
      "outputs": [
        {
          "output_type": "execute_result",
          "data": {
            "text/html": [
              "<div>\n",
              "<style scoped>\n",
              "    .dataframe tbody tr th:only-of-type {\n",
              "        vertical-align: middle;\n",
              "    }\n",
              "\n",
              "    .dataframe tbody tr th {\n",
              "        vertical-align: top;\n",
              "    }\n",
              "\n",
              "    .dataframe thead th {\n",
              "        text-align: right;\n",
              "    }\n",
              "</style>\n",
              "<table border=\"1\" class=\"dataframe\">\n",
              "  <thead>\n",
              "    <tr style=\"text-align: right;\">\n",
              "      <th></th>\n",
              "      <th>Id</th>\n",
              "      <th>Category</th>\n",
              "    </tr>\n",
              "  </thead>\n",
              "  <tbody>\n",
              "    <tr>\n",
              "      <th>0</th>\n",
              "      <td>57808</td>\n",
              "      <td>8</td>\n",
              "    </tr>\n",
              "    <tr>\n",
              "      <th>1</th>\n",
              "      <td>4960</td>\n",
              "      <td>0</td>\n",
              "    </tr>\n",
              "    <tr>\n",
              "      <th>2</th>\n",
              "      <td>35755</td>\n",
              "      <td>5</td>\n",
              "    </tr>\n",
              "    <tr>\n",
              "      <th>3</th>\n",
              "      <td>15543</td>\n",
              "      <td>3</td>\n",
              "    </tr>\n",
              "    <tr>\n",
              "      <th>4</th>\n",
              "      <td>48968</td>\n",
              "      <td>8</td>\n",
              "    </tr>\n",
              "  </tbody>\n",
              "</table>\n",
              "</div>"
            ],
            "text/plain": [
              "      Id  Category\n",
              "0  57808         8\n",
              "1   4960         0\n",
              "2  35755         5\n",
              "3  15543         3\n",
              "4  48968         8"
            ]
          },
          "metadata": {
            "tags": []
          },
          "execution_count": 18
        }
      ]
    },
    {
      "cell_type": "code",
      "metadata": {
        "id": "c1T26u72OIl4",
        "colab_type": "code",
        "colab": {}
      },
      "source": [
        "sample_submission.to_csv(\"torch_submission.csv\", index=False)"
      ],
      "execution_count": 0,
      "outputs": []
    }
  ]
}