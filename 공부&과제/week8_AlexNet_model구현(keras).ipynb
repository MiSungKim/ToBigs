{
  "nbformat": 4,
  "nbformat_minor": 0,
  "metadata": {
    "colab": {
      "name": "AlexNet model 구현.ipynb",
      "provenance": []
    },
    "kernelspec": {
      "name": "python3",
      "display_name": "Python 3"
    },
    "accelerator": "GPU"
  },
  "cells": [
    {
      "cell_type": "code",
      "metadata": {
        "id": "jODFmAZDPHJL",
        "colab_type": "code",
        "colab": {
          "base_uri": "https://localhost:8080/",
          "height": 72
        },
        "outputId": "2a57c6f3-8dfb-41a1-d72b-9dbe8def7b23"
      },
      "source": [
        "!pip install -q tensorflow-gpu==2.0.0-rc1\n",
        "import tensorflow as tf"
      ],
      "execution_count": 4,
      "outputs": [
        {
          "output_type": "stream",
          "text": [
            "\u001b[K     |████████████████████████████████| 380.5MB 48kB/s \n",
            "\u001b[K     |████████████████████████████████| 501kB 13.9MB/s \n",
            "\u001b[K     |████████████████████████████████| 4.3MB 35.7MB/s \n",
            "\u001b[?25h"
          ],
          "name": "stdout"
        }
      ]
    },
    {
      "cell_type": "markdown",
      "metadata": {
        "id": "jQ5iSJkYPV5L",
        "colab_type": "text"
      },
      "source": [
        "keras 를 이용해서 alex net을 구현해보자.\n"
      ]
    },
    {
      "cell_type": "code",
      "metadata": {
        "id": "wzZuDovEPLlJ",
        "colab_type": "code",
        "colab": {
          "base_uri": "https://localhost:8080/",
          "height": 745
        },
        "outputId": "c27c4ee5-eaab-46cd-d6e0-26555de784af"
      },
      "source": [
        "num_classes = 1000\n",
        "\n",
        "model = tf.keras.models.Sequential([  # 순차적으로 모델을 만드는 방법 \n",
        "\n",
        "        # 필터를 kernel 이라고 한다.       \n",
        "        # 11x11 필터를 96개를 사용, strides = 4, 활성화함수 = relu,                \n",
        "        tf.keras.layers.Conv2D( 96, kernel_size=(11,11), strides=4, activation='relu', input_shape=(227,227,3)),  \n",
        "       \n",
        "\n",
        "        # 3X3 크기의 pooling \n",
        "        tf.keras.layers.MaxPooling2D(pool_size=(3, 3), strides=2),\n",
        "        \n",
        "\n",
        "        # padding : 입력데이터 외각에 지정된 픽셀만큼 특정값으로 채우는것 \n",
        "        tf.keras.layers.ZeroPadding2D(2),\n",
        "        # 5X5 필터를 256개 사용 , strides = 1, 활성화함수 = relu,\n",
        "        tf.keras.layers.Conv2D(256, kernel_size=(5,5), activation='relu', strides=1),\n",
        "\n",
        "\n",
        "        tf.keras.layers.MaxPooling2D(pool_size=(3, 3), strides=2),\n",
        "\n",
        "\n",
        "        tf.keras.layers.ZeroPadding2D(1),\n",
        "        #  3x3 필터를 384개 사용, strides =1 , 활성화함수 = relu\n",
        "        tf.keras.layers.Conv2D(384, kernel_size=(3,3), activation='relu', strides=1),\n",
        "   \n",
        "\n",
        "        tf.keras.layers.ZeroPadding2D(1),\n",
        "        # 3x3 필터를 384개 사용, strides =1 , 활성화함수 = relu\n",
        "        tf.keras.layers.Conv2D(384, kernel_size=(3,3), activation='relu', strides=1),\n",
        "\n",
        "\n",
        "        tf.keras.layers.ZeroPadding2D(1),\n",
        "        # 3x3 필터를 256개 사용, strides =1 , 활성화함수 = relu\n",
        "        tf.keras.layers.Conv2D(256, kernel_size=(3,3), activation='relu', strides=1),\n",
        "\n",
        "\n",
        "        tf.keras.layers.MaxPooling2D(pool_size=(3, 3), strides=2),\n",
        "\n",
        "\n",
        "        tf.keras.layers.Flatten(),   # 쭉 펴주는 부분 \n",
        "        tf.keras.layers.Dense(4096, activation='relu'),\n",
        "        tf.keras.layers.Dense(4096, activation='relu'),\n",
        "        tf.keras.layers.Dense(num_classes, activation=\"softmax\"),                      \n",
        "])\n",
        "\n",
        "\n",
        "#model.compile(optimizer=\"adam\", loss=\"sparse_categorical_crossentropy\", metrics=[\"accuracy\"])\n",
        "# For a multi-class classification problem\n",
        "model.compile(optimizer='rmsprop',\n",
        "             loss='sparse_categorical_crossentropy',\n",
        "            metrics=['accuracy'])\n",
        "model.summary()"
      ],
      "execution_count": 11,
      "outputs": [
        {
          "output_type": "stream",
          "text": [
            "Model: \"sequential_4\"\n",
            "_________________________________________________________________\n",
            "Layer (type)                 Output Shape              Param #   \n",
            "=================================================================\n",
            "conv2d_25 (Conv2D)           (None, 55, 55, 96)        34944     \n",
            "_________________________________________________________________\n",
            "max_pooling2d_13 (MaxPooling (None, 27, 27, 96)        0         \n",
            "_________________________________________________________________\n",
            "zero_padding2d_13 (ZeroPaddi (None, 31, 31, 96)        0         \n",
            "_________________________________________________________________\n",
            "conv2d_26 (Conv2D)           (None, 27, 27, 256)       614656    \n",
            "_________________________________________________________________\n",
            "max_pooling2d_14 (MaxPooling (None, 13, 13, 256)       0         \n",
            "_________________________________________________________________\n",
            "zero_padding2d_14 (ZeroPaddi (None, 15, 15, 256)       0         \n",
            "_________________________________________________________________\n",
            "conv2d_27 (Conv2D)           (None, 13, 13, 384)       885120    \n",
            "_________________________________________________________________\n",
            "zero_padding2d_15 (ZeroPaddi (None, 15, 15, 384)       0         \n",
            "_________________________________________________________________\n",
            "conv2d_28 (Conv2D)           (None, 13, 13, 384)       1327488   \n",
            "_________________________________________________________________\n",
            "zero_padding2d_16 (ZeroPaddi (None, 15, 15, 384)       0         \n",
            "_________________________________________________________________\n",
            "conv2d_29 (Conv2D)           (None, 13, 13, 256)       884992    \n",
            "_________________________________________________________________\n",
            "max_pooling2d_15 (MaxPooling (None, 6, 6, 256)         0         \n",
            "_________________________________________________________________\n",
            "flatten_4 (Flatten)          (None, 9216)              0         \n",
            "_________________________________________________________________\n",
            "dense_12 (Dense)             (None, 4096)              37752832  \n",
            "_________________________________________________________________\n",
            "dense_13 (Dense)             (None, 4096)              16781312  \n",
            "_________________________________________________________________\n",
            "dense_14 (Dense)             (None, 1000)              4097000   \n",
            "=================================================================\n",
            "Total params: 62,378,344\n",
            "Trainable params: 62,378,344\n",
            "Non-trainable params: 0\n",
            "_________________________________________________________________\n"
          ],
          "name": "stdout"
        }
      ]
    }
  ]
}