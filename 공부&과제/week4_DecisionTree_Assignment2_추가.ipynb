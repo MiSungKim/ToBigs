{
 "cells": [
  {
   "cell_type": "code",
   "execution_count": 1,
   "metadata": {},
   "outputs": [],
   "source": [
    "import pandas as pd \n",
    "import numpy as np\n",
    "\n",
    "data = pd.read_csv('https://raw.githubusercontent.com/AugustLONG/ML01/master/01decisiontree/AllElectronics.csv')\n",
    "data.drop(\"RID\",axis=1, inplace = True) #RID는 그냥 Index라서 삭제"
   ]
  },
  {
   "cell_type": "code",
   "execution_count": 2,
   "metadata": {},
   "outputs": [
    {
     "data": {
      "text/html": [
       "<div>\n",
       "<style scoped>\n",
       "    .dataframe tbody tr th:only-of-type {\n",
       "        vertical-align: middle;\n",
       "    }\n",
       "\n",
       "    .dataframe tbody tr th {\n",
       "        vertical-align: top;\n",
       "    }\n",
       "\n",
       "    .dataframe thead th {\n",
       "        text-align: right;\n",
       "    }\n",
       "</style>\n",
       "<table border=\"1\" class=\"dataframe\">\n",
       "  <thead>\n",
       "    <tr style=\"text-align: right;\">\n",
       "      <th></th>\n",
       "      <th>age</th>\n",
       "      <th>income</th>\n",
       "      <th>student</th>\n",
       "      <th>credit_rating</th>\n",
       "      <th>class_buys_computer</th>\n",
       "    </tr>\n",
       "  </thead>\n",
       "  <tbody>\n",
       "    <tr>\n",
       "      <th>0</th>\n",
       "      <td>youth</td>\n",
       "      <td>high</td>\n",
       "      <td>no</td>\n",
       "      <td>fair</td>\n",
       "      <td>no</td>\n",
       "    </tr>\n",
       "    <tr>\n",
       "      <th>1</th>\n",
       "      <td>youth</td>\n",
       "      <td>high</td>\n",
       "      <td>no</td>\n",
       "      <td>excellent</td>\n",
       "      <td>no</td>\n",
       "    </tr>\n",
       "    <tr>\n",
       "      <th>2</th>\n",
       "      <td>middle_aged</td>\n",
       "      <td>high</td>\n",
       "      <td>no</td>\n",
       "      <td>fair</td>\n",
       "      <td>yes</td>\n",
       "    </tr>\n",
       "    <tr>\n",
       "      <th>3</th>\n",
       "      <td>senior</td>\n",
       "      <td>medium</td>\n",
       "      <td>no</td>\n",
       "      <td>fair</td>\n",
       "      <td>yes</td>\n",
       "    </tr>\n",
       "    <tr>\n",
       "      <th>4</th>\n",
       "      <td>senior</td>\n",
       "      <td>low</td>\n",
       "      <td>yes</td>\n",
       "      <td>fair</td>\n",
       "      <td>yes</td>\n",
       "    </tr>\n",
       "    <tr>\n",
       "      <th>5</th>\n",
       "      <td>senior</td>\n",
       "      <td>low</td>\n",
       "      <td>yes</td>\n",
       "      <td>excellent</td>\n",
       "      <td>no</td>\n",
       "    </tr>\n",
       "    <tr>\n",
       "      <th>6</th>\n",
       "      <td>middle_aged</td>\n",
       "      <td>low</td>\n",
       "      <td>yes</td>\n",
       "      <td>excellent</td>\n",
       "      <td>yes</td>\n",
       "    </tr>\n",
       "    <tr>\n",
       "      <th>7</th>\n",
       "      <td>youth</td>\n",
       "      <td>medium</td>\n",
       "      <td>no</td>\n",
       "      <td>fair</td>\n",
       "      <td>no</td>\n",
       "    </tr>\n",
       "    <tr>\n",
       "      <th>8</th>\n",
       "      <td>youth</td>\n",
       "      <td>low</td>\n",
       "      <td>yes</td>\n",
       "      <td>fair</td>\n",
       "      <td>yes</td>\n",
       "    </tr>\n",
       "    <tr>\n",
       "      <th>9</th>\n",
       "      <td>senior</td>\n",
       "      <td>medium</td>\n",
       "      <td>yes</td>\n",
       "      <td>fair</td>\n",
       "      <td>yes</td>\n",
       "    </tr>\n",
       "    <tr>\n",
       "      <th>10</th>\n",
       "      <td>youth</td>\n",
       "      <td>medium</td>\n",
       "      <td>yes</td>\n",
       "      <td>excellent</td>\n",
       "      <td>yes</td>\n",
       "    </tr>\n",
       "    <tr>\n",
       "      <th>11</th>\n",
       "      <td>middle_aged</td>\n",
       "      <td>medium</td>\n",
       "      <td>no</td>\n",
       "      <td>excellent</td>\n",
       "      <td>yes</td>\n",
       "    </tr>\n",
       "    <tr>\n",
       "      <th>12</th>\n",
       "      <td>middle_aged</td>\n",
       "      <td>high</td>\n",
       "      <td>yes</td>\n",
       "      <td>fair</td>\n",
       "      <td>yes</td>\n",
       "    </tr>\n",
       "    <tr>\n",
       "      <th>13</th>\n",
       "      <td>senior</td>\n",
       "      <td>medium</td>\n",
       "      <td>no</td>\n",
       "      <td>excellent</td>\n",
       "      <td>no</td>\n",
       "    </tr>\n",
       "  </tbody>\n",
       "</table>\n",
       "</div>"
      ],
      "text/plain": [
       "            age  income student credit_rating class_buys_computer\n",
       "0         youth    high      no          fair                  no\n",
       "1         youth    high      no     excellent                  no\n",
       "2   middle_aged    high      no          fair                 yes\n",
       "3        senior  medium      no          fair                 yes\n",
       "4        senior     low     yes          fair                 yes\n",
       "5        senior     low     yes     excellent                  no\n",
       "6   middle_aged     low     yes     excellent                 yes\n",
       "7         youth  medium      no          fair                  no\n",
       "8         youth     low     yes          fair                 yes\n",
       "9        senior  medium     yes          fair                 yes\n",
       "10        youth  medium     yes     excellent                 yes\n",
       "11  middle_aged  medium      no     excellent                 yes\n",
       "12  middle_aged    high     yes          fair                 yes\n",
       "13       senior  medium      no     excellent                  no"
      ]
     },
     "execution_count": 2,
     "metadata": {},
     "output_type": "execute_result"
    }
   ],
   "source": [
    "data"
   ]
  },
  {
   "cell_type": "markdown",
   "metadata": {},
   "source": [
    "## 함수 만들기"
   ]
  },
  {
   "cell_type": "code",
   "execution_count": 3,
   "metadata": {},
   "outputs": [
    {
     "data": {
      "text/plain": [
       "['youth', 'middle_aged', 'senior']"
      ]
     },
     "execution_count": 3,
     "metadata": {},
     "output_type": "execute_result"
    }
   ],
   "source": [
    "pd.unique(data['age']).tolist()"
   ]
  },
  {
   "cell_type": "code",
   "execution_count": 4,
   "metadata": {},
   "outputs": [
    {
     "data": {
      "text/plain": [
       "['no', 'yes']"
      ]
     },
     "execution_count": 4,
     "metadata": {},
     "output_type": "execute_result"
    }
   ],
   "source": [
    "pd.unique(data['class_buys_computer']).tolist()"
   ]
  },
  {
   "attachments": {
    "image.png": {
     "image/png": "[encoded data removed]"
    }
   },
   "cell_type": "markdown",
   "metadata": {},
   "source": [
    "![image.png](attachment:image.png)"
   ]
  },
  {
   "cell_type": "code",
   "execution_count": 5,
   "metadata": {},
   "outputs": [],
   "source": [
    "import math \n",
    "def getEntropy(df, feature) :\n",
    "\n",
    "    entropy = 0\n",
    "    \n",
    "    # 열에서 unique 한 피처를 뽑아서 리스트로 만든담에\n",
    "    for i in pd.unique(df[feature]).tolist():\n",
    "        df2 = df[df[feature].apply(lambda x: x in i)]\n",
    "    \n",
    "        # len(df) 는 처음 데이터 개수\n",
    "        # len(df2) 는 원하는 열에서 label이 참인 개수 \n",
    "        p= len(df2)/len(df)\n",
    "   \n",
    "        entropy -=  p*(math.log(p,2))\n",
    "\n",
    "    return(entropy)"
   ]
  },
  {
   "cell_type": "code",
   "execution_count": 6,
   "metadata": {},
   "outputs": [
    {
     "data": {
      "text/plain": [
       "0.9402859586706309"
      ]
     },
     "execution_count": 6,
     "metadata": {},
     "output_type": "execute_result"
    }
   ],
   "source": [
    "getEntropy(data, \"class_buys_computer\")"
   ]
  },
  {
   "cell_type": "markdown",
   "metadata": {},
   "source": [
    "### 방법 1"
   ]
  },
  {
   "cell_type": "code",
   "execution_count": 7,
   "metadata": {},
   "outputs": [],
   "source": [
    "def getGainA(df, feature , target ) : \n",
    "    \n",
    "    entropy=0\n",
    "    for i in pd.unique(df[feature]).tolist():\n",
    "        # 원하는 속성을 골라냄\n",
    "        df2 = df[df[feature].apply(lambda x: x in i)]\n",
    "    \n",
    "        # target 변수가 참인 개수\n",
    "        label_p = len(df2[df2[target]=='yes'])\n",
    "        \n",
    "        # 전체 class 중에 선택된 클래스의 확률\n",
    "        prob = len(df2)/len(df)\n",
    "        \n",
    "        # 뽑힌 class 에서 target 변수가 참인 확률 \n",
    "        p = label_p/len(df2)\n",
    "        \n",
    "        try : \n",
    "            entropy -= prob* ((-p)*(math.log(p,2)) -(1-p)*(math.log((1-p),2)))\n",
    "        except : \n",
    "            if p== 0:    # p==0 이면 계산이 log 0 이라 예외처리 해줌\n",
    "                entropy -= prob * (-(1-p)*(math.log((1-p),2)))\n",
    "            elif p==1 :  # p==1 이면 계산이 log 0 이라 예외처리 해줌\n",
    "                entropy -= prob *( -p*(math.log(p,2)))\n",
    "       \n",
    "    print(-entropy)\n",
    "    return(-entropy)\n"
   ]
  },
  {
   "cell_type": "code",
   "execution_count": 8,
   "metadata": {},
   "outputs": [
    {
     "name": "stdout",
     "output_type": "stream",
     "text": [
      "0.6935361388961918\n"
     ]
    },
    {
     "data": {
      "text/plain": [
       "0.6935361388961918"
      ]
     },
     "execution_count": 8,
     "metadata": {},
     "output_type": "execute_result"
    }
   ],
   "source": [
    "getGainA(data, \"age\",\"class_buys_computer\")"
   ]
  },
  {
   "cell_type": "code",
   "execution_count": 9,
   "metadata": {},
   "outputs": [
    {
     "name": "stdout",
     "output_type": "stream",
     "text": [
      "0.6935361388961918\n",
      "0.9110633930116763\n",
      "0.7884504573082896\n",
      "0.8921589282623617\n"
     ]
    }
   ],
   "source": [
    "    info_D = getEntropy(data,\"class_buys_computer\") \n",
    "    info_D_age = getGainA(data,'age', 'class_buys_computer')\n",
    "    info_D_income = getGainA(data,'income', 'class_buys_computer')\n",
    "    info_D_student = getGainA(data,'student', 'class_buys_computer')\n",
    "    info_D_credit = getGainA(data,'credit_rating', 'class_buys_computer')"
   ]
  },
  {
   "cell_type": "code",
   "execution_count": 10,
   "metadata": {},
   "outputs": [],
   "source": [
    "    gain_age = info_D - info_D_age\n",
    "    gain_income = info_D - info_D_income\n",
    "    gain_student = info_D - info_D_student\n",
    "    gain_credit = info_D - info_D_credit"
   ]
  },
  {
   "cell_type": "code",
   "execution_count": 11,
   "metadata": {},
   "outputs": [
    {
     "data": {
      "text/plain": [
       "(0.2467498197744391,\n",
       " 0.029222565658954647,\n",
       " 0.15183550136234136,\n",
       " 0.04812703040826927)"
      ]
     },
     "execution_count": 11,
     "metadata": {},
     "output_type": "execute_result"
    }
   ],
   "source": [
    "    gain_age, gain_income, gain_student, gain_credit"
   ]
  },
  {
   "cell_type": "markdown",
   "metadata": {},
   "source": [
    "### 방법2\n",
    "채우세요!\n",
    "    데이터프레임 df에서 feature을 목표변수로 삼고 나머지 각 변수들의 Gain을 구하는 함수입니다.\n",
    "    결과는 Key = 변수명, Value = Information Gain 으로 이루어진 Dictionary 여야 합니다.\n",
    "    미리 주어진 3줄은 문제풀이에 도움을 주기 위해 주어졌으나, 무시하고 각자 원하는 방법으로 풀으셔도 전혀 무방합니다."
   ]
  },
  {
   "cell_type": "code",
   "execution_count": 34,
   "metadata": {},
   "outputs": [],
   "source": [
    "def getGainA2(df, feature):\n",
    "    info_D = getEntropy(df, feature)  # 목표변수 feature 에 대한 info 를 구한다.\n",
    "    col = list(df.loc[:,df.columns != feature])   # 목표변수를 제외한 나머지 설명변수를 리스트 형태로 저장\n",
    "    \n",
    "    gains=[]\n",
    "    \n",
    "    for i in col : \n",
    "        info_Di=0\n",
    "        u = list(df[i].unique())    # 각 column 에 존재하는 값들을 받아서 list 형태로 만든다.\n",
    "        \n",
    "        for j in range(len(u)) : \n",
    "            new = df.loc[df[i]== u[j]]  # for문을 돌리면서 그 값을 가지는 행들만 뽑아낸다.\n",
    "            \n",
    "            # 전체 class 중에 선택된 클래스의 확률  *  각각의 엔트로피 \n",
    "            info_Di += (len(new[i])/len(df[i])) * (getEntropy(new, feature)) # 엔트로피 함수를 사용해서 각각의 엔트로피를 구하고 확률에 곱한걸 더해서 info_Di 를 구함\n",
    "  \n",
    "        gains.append(info_D - info_Di)\n",
    "        \n",
    "    result = dict(zip(col,gains))  # 각 변수에 대한 information gain을 딕셔너리 형태로 저장.\n",
    "    return result"
   ]
  },
  {
   "cell_type": "code",
   "execution_count": 35,
   "metadata": {},
   "outputs": [
    {
     "data": {
      "text/plain": [
       "{'age': 0.2467498197744391,\n",
       " 'income': 0.029222565658954647,\n",
       " 'student': 0.15183550136234136,\n",
       " 'credit_rating': 0.04812703040826927}"
      ]
     },
     "execution_count": 35,
     "metadata": {},
     "output_type": "execute_result"
    }
   ],
   "source": [
    "getGainA2( data, \"class_buys_computer\")"
   ]
  },
  {
   "cell_type": "code",
   "execution_count": 33,
   "metadata": {},
   "outputs": [
    {
     "name": "stdout",
     "output_type": "stream",
     "text": [
      "정보 획득이 가장 높은 변수는  age 이며 정보 획득량은 0.2467498197744391 이다.\n"
     ]
    }
   ],
   "source": [
    "my_dict = getGainA2(data,\"class_buys_computer\")\n",
    "def f1(x):\n",
    "    return my_dict[x]\n",
    "key_max = max(my_dict.keys(),key=f1)\n",
    "print('정보 획득이 가장 높은 변수는 ', key_max, \"이며 정보 획득량은\", my_dict[key_max],\"이다.\")"
   ]
  },
  {
   "cell_type": "markdown",
   "metadata": {},
   "source": [
    "## 결과 확인하기"
   ]
  },
  {
   "cell_type": "markdown",
   "metadata": {},
   "source": [
    "'정보 획득이 가장 높은 변수는',age, \"이며 정보 획득량은\", 0.2467498197744391 \"이다."
   ]
  }
 ],
 "metadata": {
  "kernelspec": {
   "display_name": "Python 3",
   "language": "python",
   "name": "python3"
  },
  "language_info": {
   "codemirror_mode": {
    "name": "ipython",
    "version": 3
   },
   "file_extension": ".py",
   "mimetype": "text/x-python",
   "name": "python",
   "nbconvert_exporter": "python",
   "pygments_lexer": "ipython3",
   "version": "3.7.3"
  }
 },
 "nbformat": 4,
 "nbformat_minor": 4
}
